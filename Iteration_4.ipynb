{
  "nbformat": 4,
  "nbformat_minor": 0,
  "metadata": {
    "colab": {
      "name": "Iteration-4.ipynb",
      "version": "0.3.2",
      "provenance": [],
      "collapsed_sections": [],
      "include_colab_link": true
    },
    "kernelspec": {
      "name": "python3",
      "display_name": "Python 3"
    }
  },
  "cells": [
    {
      "cell_type": "markdown",
      "metadata": {
        "id": "view-in-github",
        "colab_type": "text"
      },
      "source": [
        "<a href=\"https://colab.research.google.com/github/ragaashritha/Project--4/blob/master/Iteration_4.ipynb\" target=\"_parent\"><img src=\"https://colab.research.google.com/assets/colab-badge.svg\" alt=\"Open In Colab\"/></a>"
      ]
    },
    {
      "cell_type": "code",
      "metadata": {
        "id": "ZoVNnRKDfBCb",
        "colab_type": "code",
        "colab": {}
      },
      "source": [
        "#Summary#\n",
        "#Introduced dropout at every layer\n",
        "#Increased learning rate and introduced scheduler\n",
        "#Increased Batch size\n",
        "#Increased epochs\n",
        "#Accuracy:99.41 in Epoch 12"
      ],
      "execution_count": 0,
      "outputs": []
    },
    {
      "cell_type": "code",
      "metadata": {
        "id": "AJ35BqtL9gun",
        "colab_type": "code",
        "outputId": "493e9ac4-30b1-4931-859e-244d16f61c29",
        "colab": {
          "base_uri": "https://localhost:8080/",
          "height": 34
        }
      },
      "source": [
        "# https://keras.io/\n",
        "!pip install -q keras\n",
        "import keras"
      ],
      "execution_count": 1,
      "outputs": [
        {
          "output_type": "stream",
          "text": [
            "Using TensorFlow backend.\n"
          ],
          "name": "stderr"
        }
      ]
    },
    {
      "cell_type": "code",
      "metadata": {
        "id": "DLv8K76l9gxa",
        "colab_type": "code",
        "colab": {}
      },
      "source": [
        "import numpy as np\n",
        "\n",
        "from keras.models import Sequential\n",
        "from keras.layers import Dense, Dropout, Activation, Flatten, Add, BatchNormalization\n",
        "from keras.layers import Convolution2D, MaxPooling2D\n",
        "from keras.utils import np_utils\n",
        "\n",
        "from keras.datasets import mnist"
      ],
      "execution_count": 0,
      "outputs": []
    },
    {
      "cell_type": "code",
      "metadata": {
        "id": "yi72BczC9hMB",
        "colab_type": "code",
        "colab": {}
      },
      "source": [
        "(X_train, y_train), (X_test, y_test) = mnist.load_data()"
      ],
      "execution_count": 0,
      "outputs": []
    },
    {
      "cell_type": "code",
      "metadata": {
        "id": "VvCBV1Lc9hN4",
        "colab_type": "code",
        "outputId": "103b157a-ae17-4067-ee72-6a9373b49f8f",
        "colab": {
          "base_uri": "https://localhost:8080/",
          "height": 303
        }
      },
      "source": [
        "print (X_train.shape)\n",
        "from matplotlib import pyplot as plt\n",
        "%matplotlib inline\n",
        "plt.imshow(X_train[0])"
      ],
      "execution_count": 4,
      "outputs": [
        {
          "output_type": "stream",
          "text": [
            "(60000, 28, 28)\n"
          ],
          "name": "stdout"
        },
        {
          "output_type": "execute_result",
          "data": {
            "text/plain": [
              "<matplotlib.image.AxesImage at 0x7f7bf215dc18>"
            ]
          },
          "metadata": {
            "tags": []
          },
          "execution_count": 4
        },
        {
          "output_type": "display_data",
          "data": {
            "image/png": "[encoded data removed]",
            "text/plain": [
              "<Figure size 432x288 with 1 Axes>"
            ]
          },
          "metadata": {
            "tags": []
          }
        }
      ]
    },
    {
      "cell_type": "code",
      "metadata": {
        "id": "E8CgmQrG9hQd",
        "colab_type": "code",
        "colab": {}
      },
      "source": [
        "X_train = X_train.reshape(X_train.shape[0], 28, 28,1)\n",
        "X_test = X_test.reshape(X_test.shape[0], 28, 28,1)"
      ],
      "execution_count": 0,
      "outputs": []
    },
    {
      "cell_type": "code",
      "metadata": {
        "id": "CbWhPKOq9rcs",
        "colab_type": "code",
        "colab": {}
      },
      "source": [
        "X_train = X_train.astype('float32')\n",
        "X_test = X_test.astype('float32')\n",
        "X_train /= 255\n",
        "X_test /= 255"
      ],
      "execution_count": 0,
      "outputs": []
    },
    {
      "cell_type": "code",
      "metadata": {
        "id": "-I52p22x9rYm",
        "colab_type": "code",
        "colab": {}
      },
      "source": [
        "# Convert 1-dimensional class arrays to 10-dimensional class matrices\n",
        "Y_train = np_utils.to_categorical(y_train, 10)\n",
        "Y_test = np_utils.to_categorical(y_test, 10)"
      ],
      "execution_count": 0,
      "outputs": []
    },
    {
      "cell_type": "code",
      "metadata": {
        "id": "Eddol_8h9rW6",
        "colab_type": "code",
        "outputId": "37d22c24-aa65-472b-dd07-3372a997a6c9",
        "colab": {
          "base_uri": "https://localhost:8080/",
          "height": 1091
        }
      },
      "source": [
        "from keras.layers import Activation\n",
        "model = Sequential()\n",
        "\n",
        " \n",
        "model.add(Convolution2D(10, 3, 3, activation='relu', input_shape=(28,28,1),use_bias=False)) # 26\n",
        "model.add(BatchNormalization())\n",
        "model.add(Dropout(0.10))\n",
        "\n",
        "\n",
        "model.add(Convolution2D(15, 3, 3, activation='relu',use_bias=False)) # 24\n",
        "model.add(BatchNormalization())\n",
        "model.add(Dropout(0.10))\n",
        "\n",
        "\n",
        "model.add(Convolution2D(26, 3, 3, activation='relu',use_bias=False)) # 22\n",
        "model.add(BatchNormalization())\n",
        "model.add(Dropout(0.10))\n",
        "\n",
        "\n",
        "model.add(MaxPooling2D(pool_size=(2, 2))) # 11\n",
        "model.add(Convolution2D(10, 1, 1, activation='relu',use_bias=False)) # 11\n",
        "model.add(Dropout(0.10))\n",
        "\n",
        "\n",
        "model.add(Convolution2D(15, 3, 3, activation='relu',use_bias=False)) # 9\n",
        "model.add(BatchNormalization())\n",
        "model.add(Dropout(0.10))\n",
        "\n",
        "\n",
        "model.add(Convolution2D(26, 3, 3, activation='relu',use_bias=False)) # 7\n",
        "model.add(BatchNormalization())\n",
        "model.add(Dropout(0.10))\n",
        "\n",
        "\n",
        "\n",
        "model.add(Convolution2D(10, 1, activation='relu',use_bias=False)) #7\n",
        "model.add(BatchNormalization())\n",
        "\n",
        "\n",
        "model.add(Convolution2D(10, 7))\n",
        "model.add(Flatten())\n",
        "model.add(Activation('softmax'))\n",
        "model.summary()"
      ],
      "execution_count": 18,
      "outputs": [
        {
          "output_type": "stream",
          "text": [
            "/usr/local/lib/python3.6/dist-packages/ipykernel_launcher.py:5: UserWarning: Update your `Conv2D` call to the Keras 2 API: `Conv2D(10, (3, 3), activation=\"relu\", input_shape=(28, 28, 1..., use_bias=False)`\n",
            "  \"\"\"\n",
            "/usr/local/lib/python3.6/dist-packages/ipykernel_launcher.py:10: UserWarning: Update your `Conv2D` call to the Keras 2 API: `Conv2D(15, (3, 3), activation=\"relu\", use_bias=False)`\n",
            "  # Remove the CWD from sys.path while we load stuff.\n",
            "/usr/local/lib/python3.6/dist-packages/ipykernel_launcher.py:15: UserWarning: Update your `Conv2D` call to the Keras 2 API: `Conv2D(26, (3, 3), activation=\"relu\", use_bias=False)`\n",
            "  from ipykernel import kernelapp as app\n",
            "/usr/local/lib/python3.6/dist-packages/ipykernel_launcher.py:21: UserWarning: Update your `Conv2D` call to the Keras 2 API: `Conv2D(10, (1, 1), activation=\"relu\", use_bias=False)`\n",
            "/usr/local/lib/python3.6/dist-packages/ipykernel_launcher.py:25: UserWarning: Update your `Conv2D` call to the Keras 2 API: `Conv2D(15, (3, 3), activation=\"relu\", use_bias=False)`\n",
            "/usr/local/lib/python3.6/dist-packages/ipykernel_launcher.py:30: UserWarning: Update your `Conv2D` call to the Keras 2 API: `Conv2D(26, (3, 3), activation=\"relu\", use_bias=False)`\n"
          ],
          "name": "stderr"
        },
        {
          "output_type": "stream",
          "text": [
            "_________________________________________________________________\n",
            "Layer (type)                 Output Shape              Param #   \n",
            "=================================================================\n",
            "conv2d_17 (Conv2D)           (None, 26, 26, 10)        90        \n",
            "_________________________________________________________________\n",
            "batch_normalization_13 (Batc (None, 26, 26, 10)        40        \n",
            "_________________________________________________________________\n",
            "dropout_4 (Dropout)          (None, 26, 26, 10)        0         \n",
            "_________________________________________________________________\n",
            "conv2d_18 (Conv2D)           (None, 24, 24, 15)        1350      \n",
            "_________________________________________________________________\n",
            "batch_normalization_14 (Batc (None, 24, 24, 15)        60        \n",
            "_________________________________________________________________\n",
            "dropout_5 (Dropout)          (None, 24, 24, 15)        0         \n",
            "_________________________________________________________________\n",
            "conv2d_19 (Conv2D)           (None, 22, 22, 26)        3510      \n",
            "_________________________________________________________________\n",
            "batch_normalization_15 (Batc (None, 22, 22, 26)        104       \n",
            "_________________________________________________________________\n",
            "dropout_6 (Dropout)          (None, 22, 22, 26)        0         \n",
            "_________________________________________________________________\n",
            "max_pooling2d_3 (MaxPooling2 (None, 11, 11, 26)        0         \n",
            "_________________________________________________________________\n",
            "conv2d_20 (Conv2D)           (None, 11, 11, 10)        260       \n",
            "_________________________________________________________________\n",
            "dropout_7 (Dropout)          (None, 11, 11, 10)        0         \n",
            "_________________________________________________________________\n",
            "conv2d_21 (Conv2D)           (None, 9, 9, 15)          1350      \n",
            "_________________________________________________________________\n",
            "batch_normalization_16 (Batc (None, 9, 9, 15)          60        \n",
            "_________________________________________________________________\n",
            "dropout_8 (Dropout)          (None, 9, 9, 15)          0         \n",
            "_________________________________________________________________\n",
            "conv2d_22 (Conv2D)           (None, 7, 7, 26)          3510      \n",
            "_________________________________________________________________\n",
            "batch_normalization_17 (Batc (None, 7, 7, 26)          104       \n",
            "_________________________________________________________________\n",
            "dropout_9 (Dropout)          (None, 7, 7, 26)          0         \n",
            "_________________________________________________________________\n",
            "conv2d_23 (Conv2D)           (None, 7, 7, 10)          260       \n",
            "_________________________________________________________________\n",
            "batch_normalization_18 (Batc (None, 7, 7, 10)          40        \n",
            "_________________________________________________________________\n",
            "conv2d_24 (Conv2D)           (None, 1, 1, 10)          4910      \n",
            "_________________________________________________________________\n",
            "flatten_3 (Flatten)          (None, 10)                0         \n",
            "_________________________________________________________________\n",
            "activation_3 (Activation)    (None, 10)                0         \n",
            "=================================================================\n",
            "Total params: 15,648\n",
            "Trainable params: 15,444\n",
            "Non-trainable params: 204\n",
            "_________________________________________________________________\n"
          ],
          "name": "stdout"
        }
      ]
    },
    {
      "cell_type": "code",
      "metadata": {
        "id": "HJvQLptS9hUi",
        "colab_type": "code",
        "colab": {}
      },
      "source": [
        ""
      ],
      "execution_count": 0,
      "outputs": []
    },
    {
      "cell_type": "code",
      "metadata": {
        "id": "VUoPNJ-m93hQ",
        "colab_type": "code",
        "colab": {}
      },
      "source": [
        "from keras.optimizers import Adam\n",
        "from keras.callbacks import LearningRateScheduler\n",
        "def scheduler(epoch, lr):\n",
        "  return round(0.007 * 1/(1 + 0.319 * epoch), 10)\n",
        "\n",
        "model.compile(loss='categorical_crossentropy', optimizer=Adam(lr=0.007), metrics=['accuracy'])"
      ],
      "execution_count": 0,
      "outputs": []
    },
    {
      "cell_type": "code",
      "metadata": {
        "id": "oaLQRbjz93cw",
        "colab_type": "code",
        "outputId": "3c479f85-b0e2-47de-9a39-9f1b2cc70fd2",
        "colab": {
          "base_uri": "https://localhost:8080/",
          "height": 1751
        }
      },
      "source": [
        "model.fit(X_train, Y_train, batch_size=64, epochs=25, verbose=1, validation_data=(X_test, Y_test), callbacks=[LearningRateScheduler(scheduler, verbose=1)])"
      ],
      "execution_count": 20,
      "outputs": [
        {
          "output_type": "stream",
          "text": [
            "Train on 60000 samples, validate on 10000 samples\n",
            "Epoch 1/25\n",
            "\n",
            "Epoch 00001: LearningRateScheduler setting learning rate to 0.007.\n",
            "60000/60000 [==============================] - 259s 4ms/step - loss: 0.1318 - acc: 0.9591 - val_loss: 0.0418 - val_acc: 0.9866\n",
            "Epoch 2/25\n",
            "\n",
            "Epoch 00002: LearningRateScheduler setting learning rate to 0.0053070508.\n",
            "60000/60000 [==============================] - 257s 4ms/step - loss: 0.0532 - acc: 0.9834 - val_loss: 0.0369 - val_acc: 0.9883\n",
            "Epoch 3/25\n",
            "\n",
            "Epoch 00003: LearningRateScheduler setting learning rate to 0.0042735043.\n",
            "60000/60000 [==============================] - 257s 4ms/step - loss: 0.0441 - acc: 0.9861 - val_loss: 0.0335 - val_acc: 0.9898\n",
            "Epoch 4/25\n",
            "\n",
            "Epoch 00004: LearningRateScheduler setting learning rate to 0.0035769034.\n",
            "60000/60000 [==============================] - 257s 4ms/step - loss: 0.0362 - acc: 0.9887 - val_loss: 0.0292 - val_acc: 0.9902\n",
            "Epoch 5/25\n",
            "\n",
            "Epoch 00005: LearningRateScheduler setting learning rate to 0.0030755712.\n",
            "60000/60000 [==============================] - 257s 4ms/step - loss: 0.0325 - acc: 0.9895 - val_loss: 0.0326 - val_acc: 0.9902\n",
            "Epoch 6/25\n",
            "\n",
            "Epoch 00006: LearningRateScheduler setting learning rate to 0.0026974952.\n",
            "60000/60000 [==============================] - 257s 4ms/step - loss: 0.0289 - acc: 0.9907 - val_loss: 0.0287 - val_acc: 0.9914\n",
            "Epoch 7/25\n",
            "\n",
            "Epoch 00007: LearningRateScheduler setting learning rate to 0.0024021963.\n",
            "60000/60000 [==============================] - 258s 4ms/step - loss: 0.0262 - acc: 0.9914 - val_loss: 0.0243 - val_acc: 0.9918\n",
            "Epoch 8/25\n",
            "\n",
            "Epoch 00008: LearningRateScheduler setting learning rate to 0.0021651717.\n",
            "60000/60000 [==============================] - 257s 4ms/step - loss: 0.0229 - acc: 0.9921 - val_loss: 0.0260 - val_acc: 0.9922\n",
            "Epoch 9/25\n",
            "\n",
            "Epoch 00009: LearningRateScheduler setting learning rate to 0.0019707207.\n",
            "60000/60000 [==============================] - 258s 4ms/step - loss: 0.0217 - acc: 0.9929 - val_loss: 0.0261 - val_acc: 0.9921\n",
            "Epoch 10/25\n",
            "\n",
            "Epoch 00010: LearningRateScheduler setting learning rate to 0.0018083183.\n",
            "60000/60000 [==============================] - 258s 4ms/step - loss: 0.0197 - acc: 0.9934 - val_loss: 0.0208 - val_acc: 0.9937\n",
            "Epoch 11/25\n",
            "\n",
            "Epoch 00011: LearningRateScheduler setting learning rate to 0.0016706444.\n",
            "60000/60000 [==============================] - 257s 4ms/step - loss: 0.0179 - acc: 0.9940 - val_loss: 0.0272 - val_acc: 0.9923\n",
            "Epoch 12/25\n",
            "\n",
            "Epoch 00012: LearningRateScheduler setting learning rate to 0.0015524507.\n",
            "60000/60000 [==============================] - 258s 4ms/step - loss: 0.0174 - acc: 0.9943 - val_loss: 0.0211 - val_acc: 0.9941\n",
            "Epoch 13/25\n",
            "\n",
            "Epoch 00013: LearningRateScheduler setting learning rate to 0.0014498757.\n",
            "60000/60000 [==============================] - 258s 4ms/step - loss: 0.0161 - acc: 0.9946 - val_loss: 0.0232 - val_acc: 0.9933\n",
            "Epoch 14/25\n",
            "\n",
            "Epoch 00014: LearningRateScheduler setting learning rate to 0.0013600155.\n",
            "60000/60000 [==============================] - 258s 4ms/step - loss: 0.0147 - acc: 0.9952 - val_loss: 0.0245 - val_acc: 0.9930\n",
            "Epoch 15/25\n",
            "\n",
            "Epoch 00015: LearningRateScheduler setting learning rate to 0.001280644.\n",
            "60000/60000 [==============================] - 258s 4ms/step - loss: 0.0160 - acc: 0.9950 - val_loss: 0.0221 - val_acc: 0.9931\n",
            "Epoch 16/25\n",
            "\n",
            "Epoch 00016: LearningRateScheduler setting learning rate to 0.0012100259.\n",
            "60000/60000 [==============================] - 258s 4ms/step - loss: 0.0142 - acc: 0.9955 - val_loss: 0.0240 - val_acc: 0.9932\n",
            "Epoch 17/25\n",
            "\n",
            "Epoch 00017: LearningRateScheduler setting learning rate to 0.001146789.\n",
            "60000/60000 [==============================] - 259s 4ms/step - loss: 0.0134 - acc: 0.9957 - val_loss: 0.0240 - val_acc: 0.9928\n",
            "Epoch 18/25\n",
            "\n",
            "Epoch 00018: LearningRateScheduler setting learning rate to 0.0010898334.\n",
            "60000/60000 [==============================] - 257s 4ms/step - loss: 0.0135 - acc: 0.9955 - val_loss: 0.0255 - val_acc: 0.9934\n",
            "Epoch 19/25\n",
            "\n",
            "Epoch 00019: LearningRateScheduler setting learning rate to 0.0010382676.\n",
            "60000/60000 [==============================] - 258s 4ms/step - loss: 0.0118 - acc: 0.9960 - val_loss: 0.0266 - val_acc: 0.9922\n",
            "Epoch 20/25\n",
            "\n",
            "Epoch 00020: LearningRateScheduler setting learning rate to 0.000991361.\n",
            "60000/60000 [==============================] - 260s 4ms/step - loss: 0.0118 - acc: 0.9961 - val_loss: 0.0229 - val_acc: 0.9935\n",
            "Epoch 21/25\n",
            "\n",
            "Epoch 00021: LearningRateScheduler setting learning rate to 0.0009485095.\n",
            "60000/60000 [==============================] - 259s 4ms/step - loss: 0.0121 - acc: 0.9960 - val_loss: 0.0227 - val_acc: 0.9937\n",
            "Epoch 22/25\n",
            "\n",
            "Epoch 00022: LearningRateScheduler setting learning rate to 0.000909209.\n",
            "60000/60000 [==============================] - 260s 4ms/step - loss: 0.0115 - acc: 0.9960 - val_loss: 0.0221 - val_acc: 0.9935\n",
            "Epoch 23/25\n",
            "\n",
            "Epoch 00023: LearningRateScheduler setting learning rate to 0.0008730357.\n",
            "60000/60000 [==============================] - 260s 4ms/step - loss: 0.0098 - acc: 0.9968 - val_loss: 0.0227 - val_acc: 0.9939\n",
            "Epoch 24/25\n",
            "\n",
            "Epoch 00024: LearningRateScheduler setting learning rate to 0.0008396306.\n",
            "60000/60000 [==============================] - 261s 4ms/step - loss: 0.0105 - acc: 0.9965 - val_loss: 0.0227 - val_acc: 0.9935\n",
            "Epoch 25/25\n",
            "\n",
            "Epoch 00025: LearningRateScheduler setting learning rate to 0.0008086876.\n",
            "60000/60000 [==============================] - 259s 4ms/step - loss: 0.0110 - acc: 0.9963 - val_loss: 0.0239 - val_acc: 0.9932\n"
          ],
          "name": "stdout"
        },
        {
          "output_type": "execute_result",
          "data": {
            "text/plain": [
              "<keras.callbacks.History at 0x7f7be67547b8>"
            ]
          },
          "metadata": {
            "tags": []
          },
          "execution_count": 20
        }
      ]
    },
    {
      "cell_type": "code",
      "metadata": {
        "id": "L-qHbgdE93Z1",
        "colab_type": "code",
        "colab": {}
      },
      "source": [
        ""
      ],
      "execution_count": 0,
      "outputs": []
    },
    {
      "cell_type": "code",
      "metadata": {
        "id": "lI5f7pR293YJ",
        "colab_type": "code",
        "colab": {}
      },
      "source": [
        ""
      ],
      "execution_count": 0,
      "outputs": []
    }
  ]
}